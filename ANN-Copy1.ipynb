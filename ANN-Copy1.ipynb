{
 "cells": [
  {
   "cell_type": "markdown",
   "metadata": {
    "id": "PNmaChan3CPF"
   },
   "source": [
    "# PREDICTION OF UBER FARE PRICES USING ANN (LINEAR REGRESSION)\n"
   ]
  },
  {
   "cell_type": "code",
   "execution_count": null,
   "metadata": {
    "id": "G4wcFR7l-Yor"
   },
   "outputs": [],
   "source": [
    "import pandas as pd\n",
    "import matplotlib.pyplot as plt\n",
    "%matplotlib inline \n",
    "import seaborn as sns\n",
    "sns.set()"
   ]
  },
  {
   "cell_type": "code",
   "execution_count": null,
   "metadata": {
    "colab": {
     "base_uri": "https://localhost:8080/",
     "height": 250
    },
    "id": "FhuPrBb_-Ymg",
    "outputId": "1b04844d-5d13-44a7-d428-a82a192ded61"
   },
   "outputs": [],
   "source": [
    "df= pd.read_csv('/content/uber.csv')\n",
    "df.head()"
   ]
  },
  {
   "cell_type": "code",
   "execution_count": null,
   "metadata": {
    "id": "N5pvm2vy-YkA"
   },
   "outputs": [],
   "source": [
    "#data exporation"
   ]
  },
  {
   "cell_type": "code",
   "execution_count": null,
   "metadata": {
    "colab": {
     "base_uri": "https://localhost:8080/"
    },
    "id": "NRtehgN6-YiW",
    "outputId": "f338e3a7-e9d8-4335-82c2-f5e4fc22eb9b"
   },
   "outputs": [],
   "source": [
    "df.shape"
   ]
  },
  {
   "cell_type": "code",
   "execution_count": null,
   "metadata": {
    "colab": {
     "base_uri": "https://localhost:8080/"
    },
    "id": "QPM-tKz_-YgJ",
    "outputId": "646f1bdc-eedf-45da-9a94-f94cc703fbbe"
   },
   "outputs": [],
   "source": [
    "df.info()"
   ]
  },
  {
   "cell_type": "code",
   "execution_count": null,
   "metadata": {
    "colab": {
     "base_uri": "https://localhost:8080/",
     "height": 302
    },
    "id": "Rb8vtwDi-Yd3",
    "outputId": "b2664f88-ebde-40da-ca74-28b714f2019d"
   },
   "outputs": [],
   "source": [
    "sns.countplot(x=df['passenger_count'])"
   ]
  },
  {
   "cell_type": "code",
   "execution_count": null,
   "metadata": {
    "colab": {
     "base_uri": "https://localhost:8080/",
     "height": 201
    },
    "id": "-fWF5IIM-Ybs",
    "outputId": "970baaa9-49f4-45ab-c1ec-b78788ea1e54"
   },
   "outputs": [],
   "source": [
    "df =df(df['passenger_count']==1)\n",
    "df =df(['key' , 'passenger_count' ] , axis=1)\n",
    "df.head()"
   ]
  },
  {
   "cell_type": "code",
   "execution_count": null,
   "metadata": {
    "id": "VFs-dZaJ-YZc"
   },
   "outputs": [],
   "source": [
    "df.reset_index(inplace=True, drop =True)"
   ]
  },
  {
   "cell_type": "code",
   "execution_count": null,
   "metadata": {
    "colab": {
     "base_uri": "https://localhost:8080/",
     "height": 206
    },
    "id": "65xf7GLU-YXZ",
    "outputId": "b04e6468-9c70-4a0f-dad7-d516fb7a6095"
   },
   "outputs": [],
   "source": [
    "df.head()"
   ]
  },
  {
   "cell_type": "code",
   "execution_count": null,
   "metadata": {
    "colab": {
     "base_uri": "https://localhost:8080/"
    },
    "id": "M54khX0A-YVb",
    "outputId": "79dc9bef-6866-49e2-8f7c-9aa8a559c7a4"
   },
   "outputs": [],
   "source": [
    "len(df)"
   ]
  },
  {
   "cell_type": "code",
   "execution_count": null,
   "metadata": {
    "colab": {
     "base_uri": "https://localhost:8080/",
     "height": 166
    },
    "id": "WHWeRwEG-YS0",
    "outputId": "17978892-c1cb-4bfe-b4d5-60c7ee6b6f73"
   },
   "outputs": [],
   "source": [
    "df.shape()"
   ]
  },
  {
   "cell_type": "code",
   "execution_count": null,
   "metadata": {
    "colab": {
     "base_uri": "https://localhost:8080/"
    },
    "id": "1Xqnl6y9-YOz",
    "outputId": "fab125f0-9a46-4c64-9bef-48732234dee5"
   },
   "outputs": [],
   "source": [
    "corr_matrix = df.corr()\n",
    "corr_matrix['fare_amount'].sort_values(ascending=False)"
   ]
  },
  {
   "cell_type": "code",
   "execution_count": null,
   "metadata": {
    "id": "s3QcJWff-YMU"
   },
   "outputs": [],
   "source": [
    "import datetime\n",
    "from math import sqrt\n",
    "for i, row in df.iterrows():\n",
    "  dt=datetime.datetime.strptime(row['pickup_datetime'] , '%Y-%m-%d %H:%M:%S UTC')\n",
    "  df.at[i ,'dat_of_week']=dt.weekday()\n",
    "  df.at[i ,'pickup_time'] = dt.hour\n",
    "  x =(row['dropoff_longitude']- row['pickup_longitude'])*54.6\n",
    "  y =(row['dropoff_latitude']- row['pickup_latitude'])*69\n",
    "  distance= sqrt(x**2 + y**2)\n",
    "  df.at[i ,'distance'] = distance\n"
   ]
  },
  {
   "cell_type": "code",
   "execution_count": null,
   "metadata": {
    "colab": {
     "base_uri": "https://localhost:8080/",
     "height": 206
    },
    "id": "xki7ZXsF-YJk",
    "outputId": "6a379884-3ac7-4c41-fc1b-5b285e30ff15"
   },
   "outputs": [],
   "source": [
    "df.head()"
   ]
  },
  {
   "cell_type": "code",
   "execution_count": null,
   "metadata": {
    "colab": {
     "base_uri": "https://localhost:8080/",
     "height": 329
    },
    "id": "me8Zs0iu-YGM",
    "outputId": "a330e5ba-64a6-4622-fe8b-3465513ffffc"
   },
   "outputs": [],
   "source": [
    "df.drop(columns=[ 'pickup_datetime'\t'pickup_longitude'\t,'pickup_latitude'\t,'dropoff_longitude',\t'dropoff_latitude' ,'key'] , inplace= True)"
   ]
  },
  {
   "cell_type": "code",
   "execution_count": null,
   "metadata": {
    "colab": {
     "base_uri": "https://localhost:8080/",
     "height": 206
    },
    "id": "Rj7HPWa2-YDa",
    "outputId": "88bad6a0-7537-424d-d9d0-d6c5f6cdd474"
   },
   "outputs": [],
   "source": [
    "df.head()"
   ]
  },
  {
   "cell_type": "code",
   "execution_count": null,
   "metadata": {
    "colab": {
     "base_uri": "https://localhost:8080/",
     "height": 300
    },
    "id": "PQdUD62K-YA5",
    "outputId": "0636ca64-62a3-42d9-d3fb-04fb0c19c1fb"
   },
   "outputs": [],
   "source": [
    "df.describe()"
   ]
  },
  {
   "cell_type": "markdown",
   "metadata": {
    "id": "Y2MZyv6up3l-"
   },
   "source": []
  },
  {
   "cell_type": "code",
   "execution_count": null,
   "metadata": {
    "id": "28Q6E0Zf-X-4"
   },
   "outputs": [],
   "source": [
    "# removing outliers "
   ]
  },
  {
   "cell_type": "markdown",
   "metadata": {
    "id": "fYepzaNixWnr"
   },
   "source": [
    "# REMOVING OUTLIERS** \n"
   ]
  },
  {
   "cell_type": "code",
   "execution_count": null,
   "metadata": {
    "id": "huNfoDmv-X8l"
   },
   "outputs": [],
   "source": [
    "df= df[(df['distance']> 1.0) & (df['distance']<10.0)]\n",
    "df= df[(df['fare_amount']> 0.0) & (df['fare_amount']< 50.0)]"
   ]
  },
  {
   "cell_type": "code",
   "execution_count": null,
   "metadata": {
    "colab": {
     "base_uri": "https://localhost:8080/",
     "height": 206
    },
    "id": "JSYWdlTf-X5n",
    "outputId": "61aaf47e-a51a-4401-c088-790c12ac5237"
   },
   "outputs": [],
   "source": [
    "df.head()"
   ]
  },
  {
   "cell_type": "code",
   "execution_count": null,
   "metadata": {
    "colab": {
     "base_uri": "https://localhost:8080/"
    },
    "id": "aOUqpw0--UE4",
    "outputId": "7955b89c-d63d-4410-f7d5-1d2f3cb0a9dc"
   },
   "outputs": [],
   "source": [
    "df.shape"
   ]
  },
  {
   "cell_type": "code",
   "execution_count": null,
   "metadata": {
    "colab": {
     "base_uri": "https://localhost:8080/",
     "height": 311
    },
    "id": "89oWcK_d-WI3",
    "outputId": "4bdf57bd-5c8d-45d7-b1d0-f048a441a3a3"
   },
   "outputs": [],
   "source": [
    "df.drop(columns=['key'] , inplace=True)"
   ]
  },
  {
   "cell_type": "code",
   "execution_count": null,
   "metadata": {
    "colab": {
     "base_uri": "https://localhost:8080/",
     "height": 206
    },
    "id": "Bao0084q-WFf",
    "outputId": "7e90e8db-4670-4039-e1a2-6809938e2ed7"
   },
   "outputs": [],
   "source": [
    "df.head()"
   ]
  },
  {
   "cell_type": "code",
   "execution_count": null,
   "metadata": {
    "colab": {
     "base_uri": "https://localhost:8080/",
     "height": 311
    },
    "id": "wmcS9Cgc-WBq",
    "outputId": "ecf76886-224d-4a42-d349-0c96562bb9b8"
   },
   "outputs": [],
   "source": [
    "df.drop(columns=['Unnamed:0'] , inplace=True)"
   ]
  },
  {
   "cell_type": "code",
   "execution_count": null,
   "metadata": {
    "colab": {
     "base_uri": "https://localhost:8080/",
     "height": 206
    },
    "id": "_uxHQGvU-V_5",
    "outputId": "0fc47383-ca0f-4646-a3bf-59bd3cf4885b"
   },
   "outputs": [],
   "source": [
    "df.head()"
   ]
  },
  {
   "cell_type": "code",
   "execution_count": null,
   "metadata": {
    "id": "qdrT95Xy09Wo"
   },
   "outputs": [],
   "source": [
    "df.drop(columns=['passenger_count'] , inplace=True)"
   ]
  },
  {
   "cell_type": "code",
   "execution_count": null,
   "metadata": {
    "colab": {
     "base_uri": "https://localhost:8080/"
    },
    "id": "Te9pUx2R-V9R",
    "outputId": "e669a4b5-dd47-4354-b33b-eb378f58c57e"
   },
   "outputs": [],
   "source": [
    "corr_matrix =df.corr()\n",
    "\n",
    "corr_matrix['fare_amount'].sort_values(ascending=False)"
   ]
  },
  {
   "cell_type": "code",
   "execution_count": null,
   "metadata": {
    "id": "YUQSPjYX-V6p"
   },
   "outputs": [],
   "source": []
  },
  {
   "cell_type": "markdown",
   "metadata": {
    "id": "kOPtOrFHqBNQ"
   },
   "source": [
    "TRAIN A NEURAL NETWORK\n"
   ]
  },
  {
   "cell_type": "code",
   "execution_count": null,
   "metadata": {
    "id": "Oeoo7AavqIPU"
   },
   "outputs": [],
   "source": [
    "from keras.models import Sequential\n",
    "from keras.layers import Dense"
   ]
  },
  {
   "cell_type": "code",
   "execution_count": null,
   "metadata": {
    "colab": {
     "base_uri": "https://localhost:8080/"
    },
    "id": "UEfY7HgN-V2r",
    "outputId": "d5a446e9-52b1-49d1-ba46-4320493b59a4"
   },
   "outputs": [],
   "source": [
    "# ACTUAL NETWORK CODE\n",
    "\n",
    "model = Sequential()\n",
    "model.add(Dense(512 , activation='relu' , input_dim =3))\n",
    "model.add(Dense(256 , activation='relu'))\n",
    "model.add(Dense(1))\n",
    "model.compile(optimizer ='adam', loss ='mae' , metrics =['mae'])\n",
    "model.summary()\n",
    "\n"
   ]
  },
  {
   "cell_type": "code",
   "execution_count": null,
   "metadata": {
    "colab": {
     "base_uri": "https://localhost:8080/",
     "height": 206
    },
    "id": "YREEHyZO-V0f",
    "outputId": "b671c765-db95-4d34-fd81-f98449ac4e12"
   },
   "outputs": [],
   "source": [
    "df.head()"
   ]
  },
  {
   "cell_type": "code",
   "execution_count": null,
   "metadata": {
    "id": "sZ0m2ZoJ-Vxw"
   },
   "outputs": [],
   "source": [
    "x=df.drop('fare_amount',axis=1)\n",
    "y=df['fare_amount']"
   ]
  },
  {
   "cell_type": "code",
   "execution_count": null,
   "metadata": {
    "colab": {
     "base_uri": "https://localhost:8080/",
     "height": 424
    },
    "id": "msabRaYQ-Vve",
    "outputId": "b0efa131-3e97-4123-c772-f4a98ee62c4d"
   },
   "outputs": [],
   "source": [
    "x"
   ]
  },
  {
   "cell_type": "code",
   "execution_count": null,
   "metadata": {
    "colab": {
     "base_uri": "https://localhost:8080/"
    },
    "id": "A93tTGeV-VtF",
    "outputId": "d3c27592-2ce5-4807-ec74-86758ade8f9b"
   },
   "outputs": [],
   "source": [
    "y"
   ]
  },
  {
   "cell_type": "code",
   "execution_count": null,
   "metadata": {
    "colab": {
     "base_uri": "https://localhost:8080/"
    },
    "id": "9IBcDvw9-Vnu",
    "outputId": "13a38d8d-c41f-44a7-f9e0-b8a51bd4d389"
   },
   "outputs": [],
   "source": [
    "hist = model.fit(x ,y ,validation_split = 0.2 , epochs = 100 , batch_size = 100)"
   ]
  },
  {
   "cell_type": "markdown",
   "metadata": {
    "id": "OGQ3JyjLuEa9"
   },
   "source": [
    "**VISUALISE THE TRAINING\n",
    "**"
   ]
  },
  {
   "cell_type": "code",
   "execution_count": null,
   "metadata": {
    "colab": {
     "base_uri": "https://localhost:8080/",
     "height": 318
    },
    "id": "OrAzgC_O-VNZ",
    "outputId": "38b8ff43-160f-4b8c-a09e-1e700f86a33b"
   },
   "outputs": [],
   "source": [
    "err =hist.history['mae']\n",
    "val_err =hist.history['val_mae']\n",
    "epochs = range(1,len(err) +1)\n",
    "\n",
    "plt.plot(epochs , err , '-' , label = 'Training MAE')\n",
    "plt.plot(epochs , val_err , ':' , label = 'Training MAE')\n",
    "plt.title(\"Training and validation accuracy\")\n",
    "plt.xlabel(\"Epoch\")\n",
    "plt.ylabel(\"Mean Absolute Error \")\n",
    "plt.legend(loc='best')\n",
    "plt.plot()\n",
    "\n"
   ]
  },
  {
   "cell_type": "code",
   "execution_count": null,
   "metadata": {
    "colab": {
     "base_uri": "https://localhost:8080/"
    },
    "id": "S_qWAGZH-U4z",
    "outputId": "e78ec394-2e43-4ae3-c477-498c06602e59"
   },
   "outputs": [],
   "source": [
    "# use the model to predict fare amount\n",
    "#when you are booking on \n",
    "# 4 is friday bcz monday is taken 0  , \n",
    "# 17 is evening 5 o clock\n",
    "# 2.0 is 2 miles \n",
    "\n",
    "model.predict(np.array([[4,17,2.0]]))"
   ]
  },
  {
   "cell_type": "code",
   "execution_count": null,
   "metadata": {
    "colab": {
     "base_uri": "https://localhost:8080/"
    },
    "id": "kUAC-CFYwtvI",
    "outputId": "709f2a40-e7fa-4bab-a09f-32e77bc47584"
   },
   "outputs": [],
   "source": [
    "from sklearn.metrics import r2_score\n",
    "\n",
    "r2_score(y , model.predict(x))    \n",
    "\n",
    "\n",
    "## COMPLETED LINER REGREESION UBER FARE PREDICTING MODEL ######\n",
    "# we can improve model by changing activation fucntions and check the prediction and r2 value "
   ]
  },
  {
   "cell_type": "code",
   "execution_count": null,
   "metadata": {
    "id": "V2ZdoCOc4ben"
   },
   "outputs": [],
   "source": [
    "################          END       ########################"
   ]
  },
  {
   "cell_type": "code",
   "execution_count": null,
   "metadata": {
    "id": "kREgrvFQ4bbL"
   },
   "outputs": [],
   "source": []
  },
  {
   "cell_type": "markdown",
   "metadata": {
    "id": "-X5eKfZZ4bAR"
   },
   "source": [
    "# Binary classsifcation problem using churn modelling dataset using ANN"
   ]
  },
  {
   "cell_type": "code",
   "execution_count": null,
   "metadata": {
    "colab": {
     "base_uri": "https://localhost:8080/"
    },
    "id": "gZKu7Cx83Qfi",
    "outputId": "3d22ca6e-d335-4271-9b88-39251ee7f17c"
   },
   "outputs": [],
   "source": [
    "!pip install tensorflow-gpu"
   ]
  },
  {
   "cell_type": "code",
   "execution_count": null,
   "metadata": {
    "colab": {
     "base_uri": "https://localhost:8080/"
    },
    "id": "AxXD1cA07cR-",
    "outputId": "67be3727-c766-493c-f449-105c848b84a3"
   },
   "outputs": [],
   "source": [
    "import tensorflow as tf\n",
    "print(tf.__version__)"
   ]
  },
  {
   "cell_type": "code",
   "execution_count": null,
   "metadata": {
    "id": "Jw2-q8Ao8C6q"
   },
   "outputs": [],
   "source": [
    "import numpy as np\n",
    "import pandas as pd\n",
    "import matplotlib.pyplot as plt\n"
   ]
  },
  {
   "cell_type": "code",
   "execution_count": null,
   "metadata": {
    "colab": {
     "base_uri": "https://localhost:8080/",
     "height": 270
    },
    "id": "FX1vK1KF7cOk",
    "outputId": "0aa109bb-89ea-417b-c4a4-6db9cfe89bf2"
   },
   "outputs": [],
   "source": [
    "dataset = pd.read_csv('/content/Churn_Modelling.csv')\n",
    "dataset.head()"
   ]
  },
  {
   "cell_type": "code",
   "execution_count": null,
   "metadata": {
    "id": "NFZ4lYeD7cL_"
   },
   "outputs": [],
   "source": [
    "x=dataset.iloc[:, 3:13]\n",
    "y=dataset.iloc[:, 13]\n"
   ]
  },
  {
   "cell_type": "code",
   "execution_count": null,
   "metadata": {
    "colab": {
     "base_uri": "https://localhost:8080/",
     "height": 206
    },
    "id": "bkWXccQn7cKU",
    "outputId": "3d5aa010-475a-4424-cfa1-c2ce0362d619"
   },
   "outputs": [],
   "source": [
    "x.head()"
   ]
  },
  {
   "cell_type": "code",
   "execution_count": null,
   "metadata": {
    "colab": {
     "base_uri": "https://localhost:8080/"
    },
    "id": "0i0xkiMO7cHh",
    "outputId": "85e608c3-1e9f-4551-c2ea-0a9045a2b906"
   },
   "outputs": [],
   "source": [
    "y.head()"
   ]
  },
  {
   "cell_type": "code",
   "execution_count": null,
   "metadata": {
    "id": "5d92sIga7cEu"
   },
   "outputs": [],
   "source": [
    "## feature engineering  # one hot encoding is done by using get_dummies , drop_first is used to represnt three columns into two \n",
    "\n",
    "\n",
    "geography = pd.get_dummies(x['Geography'],drop_first = True)\n",
    "\n",
    "gender = pd.get_dummies(x['Gender'], drop_first = True)"
   ]
  },
  {
   "cell_type": "code",
   "execution_count": null,
   "metadata": {
    "id": "cNFFTRUqBhek"
   },
   "outputs": [],
   "source": [
    "#dropping features, axis =1  bcz we are droping columns\n",
    "\n",
    "x= x.drop(['Geography', 'Gender'] , axis =1)"
   ]
  },
  {
   "cell_type": "code",
   "execution_count": null,
   "metadata": {
    "colab": {
     "base_uri": "https://localhost:8080/",
     "height": 424
    },
    "id": "l6AkVxwDBwSY",
    "outputId": "a6bf238b-b4ce-4d7f-b1fc-eb36dae77171"
   },
   "outputs": [],
   "source": [
    "x"
   ]
  },
  {
   "cell_type": "code",
   "execution_count": null,
   "metadata": {
    "id": "BNvbed9BCBje"
   },
   "outputs": [],
   "source": [
    "# concantenate  these  variables with dataframe  # column wis\n",
    "x= pd.concat([x,geography ,gender] , axis = 1)"
   ]
  },
  {
   "cell_type": "code",
   "execution_count": null,
   "metadata": {
    "id": "TBf7sQF17b-2"
   },
   "outputs": [],
   "source": [
    "#splitting dataset into training and test sets"
   ]
  },
  {
   "cell_type": "code",
   "execution_count": null,
   "metadata": {
    "id": "NOtyxhsA7b7-"
   },
   "outputs": [],
   "source": [
    "from sklearn.model_selection import train_test_split\n",
    "x_train, x_test, y_train , y_test = train_test_split(x,y,test_size=0.2 ,random_state=0 )"
   ]
  },
  {
   "cell_type": "code",
   "execution_count": null,
   "metadata": {
    "id": "qjeqGsNx7b5o"
   },
   "outputs": [],
   "source": [
    "# feature scaling \n",
    "\n",
    "from sklearn.preprocessing import StandardScaler\n",
    "sc= StandardScaler()\n",
    "x_train = sc.fit_transform(x_train)\n",
    "x_test = sc.transform(x_test)"
   ]
  },
  {
   "cell_type": "code",
   "execution_count": null,
   "metadata": {
    "colab": {
     "base_uri": "https://localhost:8080/"
    },
    "id": "Z29wmYo77b2v",
    "outputId": "de738752-b14d-40d6-e7f0-76b2a213a7df"
   },
   "outputs": [],
   "source": [
    "x_train"
   ]
  },
  {
   "cell_type": "code",
   "execution_count": null,
   "metadata": {
    "colab": {
     "base_uri": "https://localhost:8080/"
    },
    "id": "47vb3Ihr7bz7",
    "outputId": "c4032904-4eb5-4c14-b8d2-199f103c1c58"
   },
   "outputs": [],
   "source": [
    "x_test"
   ]
  },
  {
   "cell_type": "code",
   "execution_count": null,
   "metadata": {
    "colab": {
     "base_uri": "https://localhost:8080/"
    },
    "id": "A3T2-x--7bww",
    "outputId": "cd6ff062-aa72-4130-acd1-65618f93dfdc"
   },
   "outputs": [],
   "source": [
    "x_train.shape"
   ]
  },
  {
   "cell_type": "code",
   "execution_count": null,
   "metadata": {
    "id": "8LR-HGwK7bti"
   },
   "outputs": [],
   "source": [
    "#3 part 2 now lets create the ANN\n",
    "\n",
    "from tensorflow.keras.models import Sequential\n",
    "from tensorflow.keras.layers import Dense\n",
    "from tensorflow.keras.layers import LeakyReLU , PReLU, ELU,ReLU\n",
    "from tensorflow.keras.layers import Dropout\n"
   ]
  },
  {
   "cell_type": "code",
   "execution_count": null,
   "metadata": {
    "id": "NUaaCQg97bpb"
   },
   "outputs": [],
   "source": [
    "# lets initialize the ANN\n",
    "classifier = Sequential()\n"
   ]
  },
  {
   "cell_type": "code",
   "execution_count": null,
   "metadata": {
    "id": "rggpBuhK7bnj"
   },
   "outputs": [],
   "source": [
    "# adding the input layer\n",
    "classifier.add(Dense(units = 11 , activation = 'relu'))"
   ]
  },
  {
   "cell_type": "code",
   "execution_count": null,
   "metadata": {
    "id": "0ByMbtLP7bkz"
   },
   "outputs": [],
   "source": [
    "# adding the first hidden layer\n",
    "classifier.add(Dense(units = 7 , activation = 'relu'))"
   ]
  },
  {
   "cell_type": "code",
   "execution_count": null,
   "metadata": {
    "id": "j8gcEFuy7bh9"
   },
   "outputs": [],
   "source": [
    "# adding the second hidden layer\n",
    "classifier.add(Dense(units=6 , activation='relu'))"
   ]
  },
  {
   "cell_type": "code",
   "execution_count": null,
   "metadata": {
    "id": "J-FJ3hdk7bfG"
   },
   "outputs": [],
   "source": [
    "# adding the putput layer\n",
    "classifier.add(Dense(1,activation='sigmoid'))"
   ]
  },
  {
   "cell_type": "code",
   "execution_count": null,
   "metadata": {
    "id": "5Ey7L8dW7bcA"
   },
   "outputs": [],
   "source": [
    "classifier .compile(optimizer='adam' , loss='binary_crossentrophy',metrics=['accuracy'])"
   ]
  },
  {
   "cell_type": "code",
   "execution_count": null,
   "metadata": {
    "id": "s44poMMBIUe2"
   },
   "outputs": [],
   "source": [
    "# adam uses default learning rate as 0.01 in above  but \n",
    "# below customise adam learning rate"
   ]
  },
  {
   "cell_type": "code",
   "execution_count": null,
   "metadata": {
    "id": "xsJFdcWT7bZV"
   },
   "outputs": [],
   "source": [
    "import tensorflow\n",
    "opt=tensorflow.keras.optimizers.Adam(learning_rate=0.01)"
   ]
  },
  {
   "cell_type": "code",
   "execution_count": null,
   "metadata": {
    "id": "Yq-lln9-K8td"
   },
   "outputs": [],
   "source": [
    "# early stopping\n",
    "#it is when model stops after running epochs where accuracy is staganant\n",
    "\n",
    "import tensorflow as tf\n",
    "early_stopping = tf.keras.callbacks.EarlyStopping(\n",
    "    monitor = \"val_loss\",\n",
    "    min_delta = 0.0001,\n",
    "    patience = 20,\n",
    "    verbose = 1,\n",
    "    mode = \"auto\",\n",
    "    baseline= None,\n",
    "    restore_best_weights = False,\n",
    ")"
   ]
  },
  {
   "cell_type": "code",
   "execution_count": null,
   "metadata": {
    "colab": {
     "base_uri": "https://localhost:8080/",
     "height": 780
    },
    "id": "_LR3EMCL7bWt",
    "outputId": "22300f71-060f-4813-84c5-5bcbd63ac416"
   },
   "outputs": [],
   "source": [
    "model_history = classifier.fit(x_train,y_train,validation_split=0.33, batch_size=10 , epochs=1000,callbacks= early_stopping)"
   ]
  },
  {
   "cell_type": "code",
   "execution_count": null,
   "metadata": {
    "colab": {
     "base_uri": "https://localhost:8080/",
     "height": 166
    },
    "id": "O_LkhUX57bTm",
    "outputId": "4ef07052-16ac-4aa2-8cac-1ca33c5beb3d"
   },
   "outputs": [],
   "source": [
    "##plotting model history\n",
    "\n",
    "model_history.history.keys()\n"
   ]
  },
  {
   "cell_type": "code",
   "execution_count": null,
   "metadata": {
    "id": "ZIIb_Q787bO4"
   },
   "outputs": [],
   "source": [
    "# summarise history for accuracy \n",
    "\n",
    "plt.plot(model_history.history['accuracy'])\n",
    "plt.plot(model_history.history['val_accuracy'])\n",
    "plt.title('model accuracy')\n",
    "plt.ylabel('accuracy')\n",
    "plt.xlabel('epoch')\n",
    "plt.legend(['train' , 'test'] , loc ='upper left')\n",
    "plt.show()"
   ]
  },
  {
   "cell_type": "code",
   "execution_count": null,
   "metadata": {
    "id": "F7PPaQL87bNH"
   },
   "outputs": [],
   "source": [
    "# part 3 = making prediction and evaluating the mdoel"
   ]
  },
  {
   "cell_type": "code",
   "execution_count": null,
   "metadata": {
    "id": "VEbbU1OT7bJ3"
   },
   "outputs": [],
   "source": [
    "y_pred = classifier.predict(x_test)\n",
    "y_pred = (y-pred >= 0.5)"
   ]
  },
  {
   "cell_type": "code",
   "execution_count": null,
   "metadata": {
    "id": "oy8BVPMb7bHF"
   },
   "outputs": [],
   "source": [
    "# making confusion matrix\n",
    "from sklearn.metrics import confusion_matrix\n",
    "cm = confusion_matrix(y_test , y_pred)\n",
    "cm"
   ]
  },
  {
   "cell_type": "code",
   "execution_count": null,
   "metadata": {
    "id": "n40_Zj9e7bEN"
   },
   "outputs": [],
   "source": [
    "#calcualtion the accuracy \n",
    "from sklearn.metrics import accuracy_score\n",
    "score = accuracy_score(y_pred , y_test)\n",
    "score"
   ]
  },
  {
   "cell_type": "code",
   "execution_count": null,
   "metadata": {
    "id": "I03ubB_s7bBs"
   },
   "outputs": [],
   "source": [
    "#note\n",
    "# how to  get the weights \n",
    "classifier.get_weights()\n"
   ]
  },
  {
   "cell_type": "code",
   "execution_count": null,
   "metadata": {
    "id": "B3ivrtsk7a98"
   },
   "outputs": [],
   "source": []
  },
  {
   "cell_type": "code",
   "execution_count": null,
   "metadata": {
    "id": "-E9jBA3H7a7E"
   },
   "outputs": [],
   "source": []
  },
  {
   "cell_type": "code",
   "execution_count": null,
   "metadata": {
    "id": "ps3O0Dtu7a12"
   },
   "outputs": [],
   "source": []
  },
  {
   "cell_type": "code",
   "execution_count": null,
   "metadata": {
    "id": "Rc6kF5HH7axw"
   },
   "outputs": [],
   "source": []
  },
  {
   "cell_type": "code",
   "execution_count": null,
   "metadata": {
    "id": "tHRV0OOv7avJ"
   },
   "outputs": [],
   "source": []
  },
  {
   "cell_type": "code",
   "execution_count": null,
   "metadata": {
    "id": "DCLvCocW7asi"
   },
   "outputs": [],
   "source": []
  },
  {
   "cell_type": "code",
   "execution_count": null,
   "metadata": {
    "id": "4c5q89Pe7app"
   },
   "outputs": [],
   "source": []
  },
  {
   "cell_type": "code",
   "execution_count": null,
   "metadata": {
    "id": "nM1ye-4E7ami"
   },
   "outputs": [],
   "source": []
  },
  {
   "cell_type": "code",
   "execution_count": null,
   "metadata": {
    "id": "QxAEb2Gk7ajs"
   },
   "outputs": [],
   "source": []
  },
  {
   "cell_type": "code",
   "execution_count": null,
   "metadata": {
    "id": "2N5fNguC7ag1"
   },
   "outputs": [],
   "source": []
  },
  {
   "cell_type": "code",
   "execution_count": null,
   "metadata": {
    "id": "8TUtNByh7aeB"
   },
   "outputs": [],
   "source": []
  },
  {
   "cell_type": "code",
   "execution_count": null,
   "metadata": {
    "id": "HxzWnu-C7abD"
   },
   "outputs": [],
   "source": []
  },
  {
   "cell_type": "code",
   "execution_count": null,
   "metadata": {
    "id": "Ol7aOohe7aYO"
   },
   "outputs": [],
   "source": []
  },
  {
   "cell_type": "code",
   "execution_count": null,
   "metadata": {
    "id": "sIt-UnZu7aVU"
   },
   "outputs": [],
   "source": []
  },
  {
   "cell_type": "code",
   "execution_count": null,
   "metadata": {
    "id": "b3_oX3Dq7aSm"
   },
   "outputs": [],
   "source": []
  },
  {
   "cell_type": "code",
   "execution_count": null,
   "metadata": {
    "id": "PCyqTRpg7aP2"
   },
   "outputs": [],
   "source": []
  },
  {
   "cell_type": "code",
   "execution_count": null,
   "metadata": {
    "id": "MW2y4gII7aKH"
   },
   "outputs": [],
   "source": []
  },
  {
   "cell_type": "code",
   "execution_count": null,
   "metadata": {
    "id": "y9N2Op_87aHJ"
   },
   "outputs": [],
   "source": []
  },
  {
   "cell_type": "code",
   "execution_count": null,
   "metadata": {
    "id": "rR6nBI1p7aEV"
   },
   "outputs": [],
   "source": []
  },
  {
   "cell_type": "code",
   "execution_count": null,
   "metadata": {
    "id": "Xw5tFdmG7aCG"
   },
   "outputs": [],
   "source": []
  },
  {
   "cell_type": "code",
   "execution_count": null,
   "metadata": {
    "id": "uQP26lFf7Z_e"
   },
   "outputs": [],
   "source": []
  },
  {
   "cell_type": "code",
   "execution_count": null,
   "metadata": {
    "id": "C9KqAYaN7Z83"
   },
   "outputs": [],
   "source": []
  },
  {
   "cell_type": "code",
   "execution_count": null,
   "metadata": {
    "id": "-t4-EqXQ7Z6V"
   },
   "outputs": [],
   "source": []
  },
  {
   "cell_type": "code",
   "execution_count": null,
   "metadata": {
    "id": "CE5v-wp37Z3a"
   },
   "outputs": [],
   "source": []
  },
  {
   "cell_type": "code",
   "execution_count": null,
   "metadata": {
    "id": "JIw0fP5e7Z0X"
   },
   "outputs": [],
   "source": []
  },
  {
   "cell_type": "code",
   "execution_count": null,
   "metadata": {
    "id": "izTO9o4k7ZxM"
   },
   "outputs": [],
   "source": []
  },
  {
   "cell_type": "code",
   "execution_count": null,
   "metadata": {
    "id": "Et3lvF9b7Zux"
   },
   "outputs": [],
   "source": []
  },
  {
   "cell_type": "code",
   "execution_count": null,
   "metadata": {
    "id": "a5EQXZzq7Zrp"
   },
   "outputs": [],
   "source": []
  },
  {
   "cell_type": "code",
   "execution_count": null,
   "metadata": {
    "id": "_hRQa6nt7Znj"
   },
   "outputs": [],
   "source": []
  },
  {
   "cell_type": "code",
   "execution_count": null,
   "metadata": {
    "id": "1BbyC3Rg7Zlf"
   },
   "outputs": [],
   "source": []
  },
  {
   "cell_type": "code",
   "execution_count": null,
   "metadata": {
    "id": "1ND9VDJZ7Zim"
   },
   "outputs": [],
   "source": []
  },
  {
   "cell_type": "code",
   "execution_count": null,
   "metadata": {
    "id": "1-3g4ZNH7ZgO"
   },
   "outputs": [],
   "source": []
  },
  {
   "cell_type": "code",
   "execution_count": null,
   "metadata": {
    "id": "2UXrPVh87Zdo"
   },
   "outputs": [],
   "source": []
  },
  {
   "cell_type": "code",
   "execution_count": null,
   "metadata": {
    "id": "NzcFzPPm7ZbG"
   },
   "outputs": [],
   "source": []
  },
  {
   "cell_type": "code",
   "execution_count": null,
   "metadata": {
    "id": "WQegdPbl7ZY5"
   },
   "outputs": [],
   "source": []
  },
  {
   "cell_type": "code",
   "execution_count": null,
   "metadata": {
    "id": "_fDZUx8p7ZWA"
   },
   "outputs": [],
   "source": []
  },
  {
   "cell_type": "code",
   "execution_count": null,
   "metadata": {
    "id": "cOWCQUhU7ZTO"
   },
   "outputs": [],
   "source": []
  },
  {
   "cell_type": "code",
   "execution_count": null,
   "metadata": {
    "id": "VoOLgMJx7ZQn"
   },
   "outputs": [],
   "source": []
  },
  {
   "cell_type": "code",
   "execution_count": null,
   "metadata": {
    "id": "yHQ7W_u47ZOQ"
   },
   "outputs": [],
   "source": []
  },
  {
   "cell_type": "code",
   "execution_count": null,
   "metadata": {
    "id": "aGWbuHSp7ZLm"
   },
   "outputs": [],
   "source": []
  },
  {
   "cell_type": "code",
   "execution_count": null,
   "metadata": {
    "id": "5pP393Yl7ZJF"
   },
   "outputs": [],
   "source": []
  },
  {
   "cell_type": "code",
   "execution_count": null,
   "metadata": {
    "id": "XhekM-j97ZG9"
   },
   "outputs": [],
   "source": []
  },
  {
   "cell_type": "code",
   "execution_count": null,
   "metadata": {
    "id": "PLClD1Vl7ZEl"
   },
   "outputs": [],
   "source": []
  },
  {
   "cell_type": "code",
   "execution_count": null,
   "metadata": {
    "id": "5qu_qWat7ZCK"
   },
   "outputs": [],
   "source": []
  },
  {
   "cell_type": "code",
   "execution_count": null,
   "metadata": {
    "id": "1lJk00WG7Y_o"
   },
   "outputs": [],
   "source": []
  },
  {
   "cell_type": "code",
   "execution_count": null,
   "metadata": {
    "id": "e9cHvIqb7Y9B"
   },
   "outputs": [],
   "source": []
  },
  {
   "cell_type": "code",
   "execution_count": null,
   "metadata": {
    "id": "Ou-qVarG7Y6e"
   },
   "outputs": [],
   "source": []
  },
  {
   "cell_type": "code",
   "execution_count": null,
   "metadata": {
    "id": "3rNzC1Tz7Y38"
   },
   "outputs": [],
   "source": []
  },
  {
   "cell_type": "code",
   "execution_count": null,
   "metadata": {
    "id": "j16ZULPQ7Y08"
   },
   "outputs": [],
   "source": []
  },
  {
   "cell_type": "code",
   "execution_count": null,
   "metadata": {
    "id": "jAmjApeg7YyY"
   },
   "outputs": [],
   "source": []
  },
  {
   "cell_type": "code",
   "execution_count": null,
   "metadata": {
    "id": "fOkMLNvb7Yvj"
   },
   "outputs": [],
   "source": []
  },
  {
   "cell_type": "code",
   "execution_count": null,
   "metadata": {
    "id": "0hqC-ITh7Ys5"
   },
   "outputs": [],
   "source": []
  },
  {
   "cell_type": "code",
   "execution_count": null,
   "metadata": {
    "id": "3fC2FNbZ7Yp4"
   },
   "outputs": [],
   "source": []
  },
  {
   "cell_type": "code",
   "execution_count": null,
   "metadata": {
    "id": "IXpJE_ED7YnB"
   },
   "outputs": [],
   "source": []
  },
  {
   "cell_type": "code",
   "execution_count": null,
   "metadata": {
    "id": "T3sqhkSG7YkO"
   },
   "outputs": [],
   "source": []
  },
  {
   "cell_type": "code",
   "execution_count": null,
   "metadata": {
    "id": "YpFYZh197Yhw"
   },
   "outputs": [],
   "source": []
  },
  {
   "cell_type": "code",
   "execution_count": null,
   "metadata": {
    "id": "zEuDMgKU7Ye8"
   },
   "outputs": [],
   "source": []
  },
  {
   "cell_type": "code",
   "execution_count": null,
   "metadata": {
    "id": "atMkHPPN7YcT"
   },
   "outputs": [],
   "source": []
  },
  {
   "cell_type": "code",
   "execution_count": null,
   "metadata": {
    "id": "bphSZMom7YWw"
   },
   "outputs": [],
   "source": []
  },
  {
   "cell_type": "code",
   "execution_count": null,
   "metadata": {
    "id": "ki6BJBg57YRX"
   },
   "outputs": [],
   "source": []
  },
  {
   "cell_type": "code",
   "execution_count": null,
   "metadata": {
    "id": "Acc0quOY7YOq"
   },
   "outputs": [],
   "source": []
  },
  {
   "cell_type": "code",
   "execution_count": null,
   "metadata": {
    "id": "OM-RjZrX7YLW"
   },
   "outputs": [],
   "source": []
  },
  {
   "cell_type": "code",
   "execution_count": null,
   "metadata": {
    "id": "CrK7P3yY7YHu"
   },
   "outputs": [],
   "source": []
  }
 ],
 "metadata": {
  "colab": {
   "collapsed_sections": [],
   "name": "ANN",
   "provenance": []
  },
  "kernelspec": {
   "display_name": "Python 3 (ipykernel)",
   "language": "python",
   "name": "python3"
  },
  "language_info": {
   "codemirror_mode": {
    "name": "ipython",
    "version": 3
   },
   "file_extension": ".py",
   "mimetype": "text/x-python",
   "name": "python",
   "nbconvert_exporter": "python",
   "pygments_lexer": "ipython3",
   "version": "3.9.12"
  }
 },
 "nbformat": 4,
 "nbformat_minor": 1
}
